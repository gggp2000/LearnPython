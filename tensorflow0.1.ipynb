{
 "cells": [
  {
   "cell_type": "code",
   "execution_count": null,
   "metadata": {
    "collapsed": true
   },
   "outputs": [],
   "source": [
    "import tensorflow as tf\n",
    "matrix1 = tf.constant([[3.,3.]])\n",
    "matrix2 = tf.constant([[2.],[2.]])\n",
    "product = tf.matmul(matrix1,matrix2)\n",
    "with tf.Session() as sess:\n",
    "    result = sess.run(product)\n",
    "    print(result)"
   ]
  },
  {
   "cell_type": "markdown",
   "metadata": {},
   "source": [
    "## 使用 TensorFlow, 你必须明白 TensorFlow: \n",
    "\n",
    "1. 使用图__graph__ 来表示计算任务.\n",
    "2. 在被称之为 *会话 (Session) 的上下文* (context) 中执行图.\n",
    "3. 使用 \\*tensor\\_ 表示数据.\n",
    "4. 通过 变量 (Variable) 维护状态.\n",
    "5. 使用 feed 和 fetch 可以为任意的操作(arbitrary operation) 赋值或者从其中获取数据.\n",
    "\n",
    "Tensorflow是一个编程系统，用图来表示计算任务，图中的节点称之为op，一个op活的0个或多个tensor执行计算后，产生0个或多个Tensor，每个Tensor是一个类型化的多维数组。如：可以将一小组图像集表示为一个四维浮点数组，四个维度为：［batch，height，width，channels］\n",
    "图必须在会话里被启动，会话将图的op发送到CPU或GPU上，提供op的执行方法，之后将产生的tensor实例（对象）返回。"
   ]
  },
  {
   "cell_type": "code",
   "execution_count": null,
   "metadata": {
    "collapsed": true
   },
   "outputs": [],
   "source": [
    "import tensorflow as tf\n",
    "with tf.Session() as sess2:\n",
    "    with tf.device('/gpu:1'):\n",
    "        matrix1 = tf.constant([[3.,3.]])\n",
    "        matrix2 = tf.constant([[2.],[2.]])\n",
    "        product = tf.matmul(matrix1,matrix2)\n",
    "        result = sess2.run(product)\n",
    "        print(result)"
   ]
  },
  {
   "cell_type": "code",
   "execution_count": null,
   "metadata": {
    "scrolled": true
   },
   "outputs": [],
   "source": [
    "import tensorflow as tf\n",
    "sess = tf.InteractiveSession()\n",
    "\n",
    "x = tf.Variable([1.0,2.0])\n",
    "a = tf.constant([3.0,3.0])\n",
    "\n",
    "x.initializer.run()\n",
    "\n",
    "sub = tf.sub(x,a)\n",
    "\n",
    "print(sub.eval());"
   ]
  },
  {
   "cell_type": "code",
   "execution_count": 2,
   "metadata": {},
   "outputs": [
    {
     "name": "stdout",
     "output_type": "stream",
     "text": [
      "0\n",
      "1\n",
      "2\n",
      "3\n"
     ]
    }
   ],
   "source": [
    "#创建一个变量，初始化为标量0\n",
    "import tensorflow as tf\n",
    "state = tf.Variable(0, name='counter')\n",
    "\n",
    "#创建一个op，作用是使state +1\n",
    "one = tf.constant(1)\n",
    "new_value = tf.add(state, one)\n",
    "update = tf.assign(state, new_value)\n",
    "\n",
    "#启动graph后，变量必须先经过初始化 op\n",
    "#首先必须增加一个初始化op到图中\n",
    "init_op = tf.initialize_all_variables()\n",
    "\n",
    "#启动graph，运行op\n",
    "with tf.Session() as sess:\n",
    "    sess.run(init_op)\n",
    "    print(sess.run(state))\n",
    "    for _ in range(3):\n",
    "        sess.run(update)\n",
    "        print(sess.run(state))"
   ]
  },
  {
   "cell_type": "markdown",
   "metadata": {},
   "source": [
    "# Fetch\n",
    ">为了取回操作的输出内容，可会在使用**session**对象的_run()_调用执行图时，传入一些tensor，``这些tensor会帮助你取回结果``，在之前的例子里，我们只取回了单个借点*state*,但是你也可以取回多个tensor\n",
    "<https://markdown.com>\n"
   ]
  },
  {
   "cell_type": "code",
   "execution_count": 6,
   "metadata": {},
   "outputs": [
    {
     "name": "stdout",
     "output_type": "stream",
     "text": [
      "[21.0, 7.0]\n"
     ]
    }
   ],
   "source": [
    "import tensorflow as tf\n",
    "input1 = tf.constant(3.0)\n",
    "input2 = tf.constant(2.0)\n",
    "input3 = tf.constant(5.0)\n",
    "intermed = tf.add(input2,input3)\n",
    "mul = tf.mul(input1,intermed)\n",
    "\n",
    "with tf.Session() as sess:\n",
    "    result = sess.run([mul, intermed])\n",
    "    print(result)\n",
    "    result"
   ]
  },
  {
   "cell_type": "markdown",
   "metadata": {},
   "source": [
    "# Feed\n",
    ">在计算图中引入tensor，以变量或常量的形势存储，TensorFlow还提供feed机制，可以临时替代途中任意操作中的tensor可以对途中任何操作提交补丁，直接插入一个tensor。\n",
    ">feed使用一个tenso值临时替换一个操作的输出结果，可以提供feed数据作为**run()**调用的参数，feed只在调用他的方法内有效，方法结束feed消失，最常见的用例是将某些特殊的操作指定为“feed”操作，标记的方法是使用tf.placeholder()为这些操作创建占位符。"
   ]
  },
  {
   "cell_type": "code",
   "execution_count": 7,
   "metadata": {},
   "outputs": [
    {
     "name": "stdout",
     "output_type": "stream",
     "text": [
      "[array([ 14.], dtype=float32)]\n"
     ]
    }
   ],
   "source": [
    "import tensorflow as tf\n",
    "input1 = tf.placeholder(tf.float32)\n",
    "input2 = tf.placeholder(tf.float32)\n",
    "output = tf.mul(input1,input2)\n",
    "\n",
    "with tf.Session() as sess:\n",
    "    print(sess.run([output], feed_dict={input1:[7.], input2:[2.]}))\n",
    "    "
   ]
  },
  {
   "cell_type": "code",
   "execution_count": 1,
   "metadata": {},
   "outputs": [
    {
     "name": "stdout",
     "output_type": "stream",
     "text": [
      "Populating the interactive namespace from numpy and matplotlib\n"
     ]
    },
    {
     "data": {
      "text/plain": [
       "[<matplotlib.lines.Line2D at 0x107a28780>]"
      ]
     },
     "execution_count": 1,
     "metadata": {},
     "output_type": "execute_result"
    },
    {
     "data": {
      "image/png": "[encoded data removed]",
      "text/plain": [
       "<matplotlib.figure.Figure at 0x105a8dc18>"
      ]
     },
     "metadata": {},
     "output_type": "display_data"
    }
   ],
   "source": [
    "%pylab inline\n",
    "from numpy import linspace,sin\n",
    "import matplotlib\n",
    "from pylab import plot\n",
    "x = linspace(-3,3,20)\n",
    "plot(x,sin(x))"
   ]
  },
  {
   "cell_type": "code",
   "execution_count": null,
   "metadata": {
    "collapsed": true
   },
   "outputs": [],
   "source": []
  }
 ],
 "metadata": {
  "kernelspec": {
   "display_name": "Python 3",
   "language": "python",
   "name": "python3"
  },
  "language_info": {
   "codemirror_mode": {
    "name": "ipython",
    "version": 3
   },
   "file_extension": ".py",
   "mimetype": "text/x-python",
   "name": "python",
   "nbconvert_exporter": "python",
   "pygments_lexer": "ipython3",
   "version": "3.6.2"
  }
 },
 "nbformat": 4,
 "nbformat_minor": 2
}
