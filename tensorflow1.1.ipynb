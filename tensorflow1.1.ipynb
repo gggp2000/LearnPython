{
 "cells": [
  {
   "cell_type": "markdown",
   "metadata": {},
   "source": [
    "# 总览\n",
    "> 1. 面向机器学习初学者的MNIST初级教程   \n",
    "2. MNIST高级教程\n",
    "3. Tensorflow使用指南\n",
    "4. 卷积神经网络\n",
    "5. 单词的向量表示\n",
    "6. 循环神经网络RNN\n",
    "7. 序列到序列模型\n",
    "8. Mandelbrot集合\n",
    "9. 偏微分方程\n",
    "10. MNIST数据下载\n",
    "11. 视觉物体识别VOR\n",
    "12. Deep Dream视幻觉软件\n"
   ]
  }
 ],
 "metadata": {
  "kernelspec": {
   "display_name": "Python 3",
   "language": "python",
   "name": "python3"
  },
  "language_info": {
   "codemirror_mode": {
    "name": "ipython",
    "version": 3
   },
   "file_extension": ".py",
   "mimetype": "text/x-python",
   "name": "python",
   "nbconvert_exporter": "python",
   "pygments_lexer": "ipython3",
   "version": "3.6.2"
  }
 },
 "nbformat": 4,
 "nbformat_minor": 2
}
