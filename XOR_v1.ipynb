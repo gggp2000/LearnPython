{
 "cells": [
  {
   "cell_type": "code",
   "execution_count": 1,
   "metadata": {
    "collapsed": true
   },
   "outputs": [],
   "source": [
    "import tensorflow as tf\n",
    "import numpy as np"
   ]
  },
  {
   "cell_type": "code",
   "execution_count": 2,
   "metadata": {},
   "outputs": [],
   "source": [
    "inputs = tf.placeholder(tf.float32,[None,2],name='input')\n",
    "labels = tf.placeholder(tf.float32,[None,1],name='label')\n",
    "#Hidden Layer 1\n",
    "W = tf.Variable(tf.truncated_normal([2,2],stddev=0.1,name='Weights'))\n",
    "b = tf.Variable(tf.constant(0.1,shape=[2]),name='biases')\n",
    "pre_act = tf.matmul(inputs,W) + b\n",
    "output = tf.nn.relu(pre_act,name='activation')\n",
    "#Output Layer\n",
    "Wo = tf.Variable(tf.truncated_normal([2,1],stddev=0.1,name='Weights_out'))\n",
    "bo = tf.Variable(tf.constant(0.1,shape=[1]),name='biases_out')\n",
    "pre_act_o = tf.matmul(output,Wo) + bo\n",
    "out_y = tf.nn.relu(pre_act_o,name='act_y')\n",
    "\n",
    "loss = tf.reduce_mean((out_y-labels)**2)\n",
    "train_step = tf.train.AdamOptimizer(1e-4).minimize(loss)"
   ]
  },
  {
   "cell_type": "code",
   "execution_count": 3,
   "metadata": {
    "collapsed": true
   },
   "outputs": [],
   "source": [
    "sess = tf.InteractiveSession()\n",
    "tf.initialize_all_variables().run()"
   ]
  },
  {
   "cell_type": "code",
   "execution_count": 4,
   "metadata": {
    "collapsed": true
   },
   "outputs": [],
   "source": [
    "x=[[0,0],[0,1],[1,0],[1,1]]\n",
    "y=[[0],[1],[1],[0]]\n",
    "X=np.array(x).astype('int16')\n",
    "Y=np.array(y).astype('int16')"
   ]
  },
  {
   "cell_type": "code",
   "execution_count": null,
   "metadata": {},
   "outputs": [],
   "source": [
    "W.eval()"
   ]
  },
  {
   "cell_type": "code",
   "execution_count": null,
   "metadata": {},
   "outputs": [],
   "source": [
    "Wo.eval()"
   ]
  },
  {
   "cell_type": "code",
   "execution_count": 5,
   "metadata": {
    "scrolled": false
   },
   "outputs": [
    {
     "name": "stdout",
     "output_type": "stream",
     "text": [
      "Training #0 loss: 0.42\n",
      "Training #100 loss: 0.41\n",
      "Training #200 loss: 0.40\n",
      "Training #300 loss: 0.38\n",
      "Training #400 loss: 0.38\n",
      "Training #500 loss: 0.37\n",
      "Training #600 loss: 0.36\n",
      "Training #700 loss: 0.35\n",
      "Training #800 loss: 0.34\n",
      "Training #900 loss: 0.33\n",
      "Training #1000 loss: 0.33\n",
      "Training #1100 loss: 0.32\n",
      "Training #1200 loss: 0.31\n",
      "Training #1300 loss: 0.31\n",
      "Training #1400 loss: 0.30\n",
      "Training #1500 loss: 0.29\n",
      "Training #1600 loss: 0.29\n",
      "Training #1700 loss: 0.28\n",
      "Training #1800 loss: 0.28\n",
      "Training #1900 loss: 0.27\n",
      "Training #2000 loss: 0.27\n",
      "Training #2100 loss: 0.26\n",
      "Training #2200 loss: 0.26\n",
      "Training #2300 loss: 0.25\n",
      "Training #2400 loss: 0.25\n",
      "Training #2500 loss: 0.24\n",
      "Training #2600 loss: 0.24\n",
      "Training #2700 loss: 0.23\n",
      "Training #2800 loss: 0.23\n",
      "Training #2900 loss: 0.22\n",
      "Training #3000 loss: 0.22\n",
      "Training #3100 loss: 0.21\n",
      "Training #3200 loss: 0.21\n",
      "Training #3300 loss: 0.20\n",
      "Training #3400 loss: 0.20\n",
      "Training #3500 loss: 0.19\n",
      "Training #3600 loss: 0.19\n",
      "Training #3700 loss: 0.18\n",
      "Training #3800 loss: 0.18\n",
      "Training #3900 loss: 0.18\n",
      "Training #4000 loss: 0.17\n",
      "Training #4100 loss: 0.17\n",
      "Training #4200 loss: 0.16\n",
      "Training #4300 loss: 0.16\n",
      "Training #4400 loss: 0.16\n",
      "Training #4500 loss: 0.15\n",
      "Training #4600 loss: 0.15\n",
      "Training #4700 loss: 0.14\n",
      "Training #4800 loss: 0.14\n",
      "Training #4900 loss: 0.14\n",
      "Training #5000 loss: 0.13\n",
      "Training #5100 loss: 0.13\n",
      "Training #5200 loss: 0.12\n",
      "Training #5300 loss: 0.12\n",
      "Training #5400 loss: 0.12\n",
      "Training #5500 loss: 0.11\n",
      "Training #5600 loss: 0.11\n",
      "Training #5700 loss: 0.11\n",
      "Training #5800 loss: 0.10\n",
      "Training #5900 loss: 0.10\n",
      "Training #6000 loss: 0.10\n",
      "Training #6100 loss: 0.09\n",
      "Training #6200 loss: 0.09\n",
      "Training #6300 loss: 0.09\n",
      "Training #6400 loss: 0.08\n",
      "Training #6500 loss: 0.08\n",
      "Training #6600 loss: 0.08\n",
      "Training #6700 loss: 0.07\n",
      "Training #6800 loss: 0.07\n",
      "Training #6900 loss: 0.07\n",
      "Training #7000 loss: 0.07\n",
      "Training #7100 loss: 0.06\n",
      "Training #7200 loss: 0.06\n",
      "Training #7300 loss: 0.06\n",
      "Training #7400 loss: 0.05\n",
      "Training #7500 loss: 0.05\n",
      "Training #7600 loss: 0.05\n",
      "Training #7700 loss: 0.05\n",
      "Training #7800 loss: 0.04\n",
      "Training #7900 loss: 0.04\n",
      "Training #8000 loss: 0.04\n",
      "Training #8100 loss: 0.04\n",
      "Training #8200 loss: 0.04\n",
      "Training #8300 loss: 0.03\n",
      "Training #8400 loss: 0.03\n",
      "Training #8500 loss: 0.03\n",
      "Training #8600 loss: 0.03\n",
      "Training #8700 loss: 0.03\n",
      "Training #8800 loss: 0.02\n",
      "Training #8900 loss: 0.02\n",
      "Training #9000 loss: 0.02\n",
      "Training #9100 loss: 0.02\n",
      "Training #9200 loss: 0.02\n",
      "Training #9300 loss: 0.02\n",
      "Training #9400 loss: 0.01\n",
      "Training #9500 loss: 0.01\n",
      "Training #9600 loss: 0.01\n",
      "Training #9700 loss: 0.01\n",
      "Training #9800 loss: 0.01\n",
      "Training #9900 loss: 0.01\n"
     ]
    }
   ],
   "source": [
    "for i in range(10000):\n",
    "    sess.run(train_step,feed_dict={inputs:X, labels:Y})\n",
    "    if i%100 == 0:\n",
    "        l2 = loss.eval(feed_dict={inputs:X,labels:Y})\n",
    "        print('Training #%d loss: %.2f'%(i,l2))"
   ]
  },
  {
   "cell_type": "code",
   "execution_count": null,
   "metadata": {},
   "outputs": [],
   "source": [
    "T = 1000 #训练 10000 epoch\n",
    "for i in range(T):\n",
    "    for j in range(X.shape[0]):\n",
    "        sess.run(train_step,feed_dict={inputs:X[j], labels:Y[j]})\n",
    "    if i%100 == 0:\n",
    "        l2 = loss.eval(feed_dict={inputs:X,labels:Y})\n",
    "        print('Training #%d loss: %.2f'%(i,l2))"
   ]
  },
  {
   "cell_type": "code",
   "execution_count": 6,
   "metadata": {},
   "outputs": [
    {
     "data": {
      "text/plain": [
       "array([[ 0.90999919, -0.85135514],\n",
       "       [-0.91000968,  0.851331  ]], dtype=float32)"
      ]
     },
     "execution_count": 6,
     "metadata": {},
     "output_type": "execute_result"
    }
   ],
   "source": [
    "W.eval()"
   ]
  },
  {
   "cell_type": "code",
   "execution_count": 7,
   "metadata": {},
   "outputs": [
    {
     "data": {
      "text/plain": [
       "array([[ 0.87849224],\n",
       "       [ 0.9963671 ]], dtype=float32)"
      ]
     },
     "execution_count": 7,
     "metadata": {},
     "output_type": "execute_result"
    }
   ],
   "source": [
    "Wo.eval()"
   ]
  },
  {
   "cell_type": "code",
   "execution_count": 8,
   "metadata": {},
   "outputs": [
    {
     "data": {
      "text/plain": [
       "0.0080968821"
      ]
     },
     "execution_count": 8,
     "metadata": {},
     "output_type": "execute_result"
    }
   ],
   "source": [
    "loss.eval(feed_dict={inputs:X,labels:Y})"
   ]
  },
  {
   "cell_type": "code",
   "execution_count": 10,
   "metadata": {},
   "outputs": [
    {
     "data": {
      "text/plain": [
       "array([[ 0.09428272],\n",
       "       [ 0.94248009],\n",
       "       [ 0.89369607],\n",
       "       [ 0.09428272]], dtype=float32)"
      ]
     },
     "execution_count": 10,
     "metadata": {},
     "output_type": "execute_result"
    }
   ],
   "source": [
    "pY = sess.run(out_y,feed_dict={inputs:X})\n",
    "pY"
   ]
  }
 ],
 "metadata": {
  "kernelspec": {
   "display_name": "Python 3",
   "language": "python",
   "name": "python3"
  },
  "language_info": {
   "codemirror_mode": {
    "name": "ipython",
    "version": 3
   },
   "file_extension": ".py",
   "mimetype": "text/x-python",
   "name": "python",
   "nbconvert_exporter": "python",
   "pygments_lexer": "ipython3",
   "version": "3.6.2"
  }
 },
 "nbformat": 4,
 "nbformat_minor": 2
}
