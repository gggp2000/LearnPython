{
 "cells": [
  {
   "cell_type": "code",
   "execution_count": 1,
   "metadata": {
    "collapsed": true
   },
   "outputs": [],
   "source": [
    "import tensorflow as tf\n",
    "import numpy as np\n",
    "import matplotlib.pyplot as plt\n",
    "%matplotlib inline\n",
    "tf.set_random_seed(55)\n",
    "np.random.seed(55)"
   ]
  },
  {
   "cell_type": "code",
   "execution_count": 2,
   "metadata": {
    "collapsed": true
   },
   "outputs": [],
   "source": [
    "class FNN(object):\n",
    "    \"\"\"Build a general FeedForward neural network\n",
    "    Parameters\n",
    "    ----------\n",
    "    learning_rate: float\n",
    "    drop_out: float\n",
    "    Layers: list\n",
    "    N_hidden: list\n",
    "    D_input: int\n",
    "    D_label: int\n",
    "    Task_type: string\n",
    "        'regression' or 'classification'\n",
    "    L2_lambda: float\n",
    "    \"\"\"\n",
    "    def __init__(self, learning_rate, drop_keep, Layers, N_hidden,\n",
    "                 D_input, D_label, Task_type='regression', L2_lambda=0.0):\n",
    "        #var\n",
    "        self.learning_rate = learning_rate\n",
    "        self.drop_keep = drop_keep\n",
    "        self.Layers = Layers\n",
    "        self.N_hidden = N_hidden\n",
    "        self.D_input = D_input\n",
    "        self.D_label = D_label\n",
    "        #类型控制loss函数的选择\n",
    "        self.Task_type = Task_type\n",
    "        #L2 regularization的惩罚强弱，过高会使输出倾向于0\n",
    "        self.L2_lambda = L2_lambda\n",
    "        #用于存放锁累积的每层L2 regularization\n",
    "        self.l2_penalty = tf.constant(0.0)\n",
    "        \n",
    "        #用于生成缩放图，括号里起名字\n",
    "        with tf.name_scope('Input'):\n",
    "            self.inputs = tf.placeholder(tf.float32,[None,D_input],name='inputs')\n",
    "        with tf.name_scope('Label'):\n",
    "            self.labels = tf.placeholder(tf.float32,[None,D_label],name='labels')\n",
    "        with tf.name_scope('keep_rate'):\n",
    "            self.drop_keep_rate = tf.placeholder(tf.float32,name='dropout_keep')\n",
    "        \n",
    "        #初始化时直接生成，build方法是后面会建立的\n",
    "        self.build('F')\n",
    "        \n",
    "    def weight_init(self,shape):\n",
    "        #shape: list [in_dim, out_dim]\n",
    "        #can change initialization here\n",
    "        initial = tf.random_uniform(shape,minval=-np.sqrt(5)*np.sqrt(1.0/shape[0]),maxval=np.sqrt(5)*np.sqrt(1.0/shape[0]))\n",
    "        return tf.Variable(initial)\n",
    "    \n",
    "    def bias_init(self, shape):\n",
    "        #can change initialization here\n",
    "        initial = tf.constant(0.1,shape=shape)\n",
    "        return tf.Variable(initial)\n",
    "    \n",
    "    def variable_summaries(self, var, name):\n",
    "        with tf.name_scope(name+'_summaries'):\n",
    "            mean = tf.reduce_mean(var)\n",
    "            tf.scalar_summary('mean/'+name, mean)\n",
    "        with tf.name_scope(name+'_stddev'):\n",
    "            stddev = tf.sqrt(tf.reduce_mean(tf.square(var-mean)))\n",
    "        #record the change data after each training\n",
    "        tf.scalar_summary('_stddev/'+name,stddev)\n",
    "        tf.scalar_summary('_max/'+name,tf.reduce_max(var))\n",
    "        tf.scalar_summary('_min/'+name,tf.reduce_min(var))\n",
    "        tf.histogram_summary(name,var)\n",
    "    \n",
    "    def layer(self, in_tensor, in_dim, out_dim, layer_name, act=tf.nn.relu):\n",
    "        with tf.name_scope(layer_name):\n",
    "            with tf.name_scope(layer_name+'_weights'):\n",
    "                # initial by function weight_init()\n",
    "                weights = self.weight_init([in_dim, out_dim])\n",
    "                # 存放每一个权重W\n",
    "                self.W.append(weights)\n",
    "                # 对权重进行统计\n",
    "                self.variable_summaries(weights, layer_name+'/weights')\n",
    "            with tf.name_scope(layer_name+'_biases'):\n",
    "                biases = self.bias_init([out_dim])\n",
    "                self.variable_summaries(biases, layer_name+'/biases')\n",
    "            with tf.name_scope(layer_name+'_Wx_plus_b'):\n",
    "                #calculate Wx+b\n",
    "                pre_activate = tf.matmul(in_tensor, weights) + biases\n",
    "                #记录直方图\n",
    "                tf.histogram_summary(layer_name+'/pre_activations',pre_activate)\n",
    "                \n",
    "            #计算a(Wx+b)\n",
    "            activations = act(pre_activate, name='activation')\n",
    "            tf.histogram_summary(layer_name+'/activations',activations)\n",
    "        #返回该层的输出以及权重W的l2\n",
    "        return activations, tf.nn.l2_loss(weights)\n",
    "    \n",
    "    def drop_layer(self, in_tensor):\n",
    "        #tf.scalar_summary('droupout_keep', self.drop_keep_rate)\n",
    "        dropped = tf.nn.dropout(in_tensor, self.drop_keep_rate)\n",
    "        return dropped\n",
    "    \n",
    "    def build(self, prefix):\n",
    "        #build net\n",
    "        #incoming 代表当前tensor的流动位置\n",
    "        incoming = self.inputs\n",
    "        #if no hidden layers\n",
    "        if self.Layers != 0:\n",
    "            layer_nodes = [self.D_input] + self.N_hidden\n",
    "        else:\n",
    "            layer_nodes = [self.D_input]\n",
    "        #hid_layers用于存储所有隐藏层的输出\n",
    "        self.hid_layers = []\n",
    "        #W用于存储所有层的权重\n",
    "        self.W = []\n",
    "        self.b = []\n",
    "        self.total_l2 = []\n",
    "        self.drop = []\n",
    "        #开始叠加隐藏层\n",
    "        for l in range(self.Layers):\n",
    "            #使用刚才编写的函数来建立层，并更新incoming的位置\n",
    "            incoming, l2_loss = self.layer(incoming, layer_nodes[l],layer_nodes[l+1],prefix+'_hid_'+str(l+1),act=tf.nn.relu)\n",
    "            #累计l2\n",
    "            self.total_l2.append(l2_loss)\n",
    "            #output some info to know what we have built in th net\n",
    "            print('Add dense layer: relu with drop_keep: %s'% self.drop_keep) \n",
    "            print('   %sD--> %sD'%(layer_nodes[l],layer_nodes[l+1]))\n",
    "            #save output of hid_layers\n",
    "            self.hid_layers.append(incoming)\n",
    "            #add dropout layer\n",
    "            incoming = self.drop_layer(incoming)\n",
    "            #save output after dropout\n",
    "            self.drop.append(incoming)\n",
    "        #输出层建立。 activation 函数要根据任务来变换\n",
    "        #回归任务，下面用的是tf.identity,没有activation函数\n",
    "        if self.Task_type == 'regression':\n",
    "            out_act = tf.identity\n",
    "        else:\n",
    "            #分类任务使用softmax来拟合概率\n",
    "            out_act = tf.nn.softmax\n",
    "        self.output, l2_loss = self.layer(incoming,layer_nodes[-1],self.D_label,layer_name='output',act=out_act)\n",
    "        self.total_l2.append(l2_loss)\n",
    "        print('Add output layer: linear')\n",
    "        print('   %sD --> %sD' % (layer_nodes[-1],self.D_label))\n",
    "        \n",
    "        #l2 loss 缩略图\n",
    "        with tf.name_scope('total_l2'):\n",
    "            for l2 in self.total_l2:\n",
    "                self.l2_penalty += l2\n",
    "            tf.scalar_summary('l2_penalty', self.l2_penalty)\n",
    "        \n",
    "        #不同任务的loss\n",
    "            #若为回归，则loss是用于判断所有预测值和实际值差别的函数\n",
    "        if self.Task_type == 'regression':\n",
    "            with tf.name_scope('SSE'):\n",
    "                self.loss = tf.reduce_mean((self.output-self.labels)**2)\n",
    "                tf.scalar_summary('loss', self.loss)\n",
    "        else:\n",
    "            #若为分类，cross entropy的loss函数 交叉熵\n",
    "            entropy = tf.nn.softmax_cross_entropy_with_logits(self.output,self.labels)\n",
    "            with tf.name_scope('cross entropy'):\n",
    "                self.loss = tf.reduce_mean(entropy)\n",
    "                tf.scalar_summary('loss',self.loss)\n",
    "            with tf.name_scope('accuracy'):\n",
    "                correct_prediction = tf.equal(tf.argmax(self.output, 1), tf.argmax(self.labels, 1))\n",
    "                self.accuracy = tf.reduce_mean(tf.cast(correct_prediction, tf.float32))\n",
    "                tf.scalar_summary('accuracy', self.accuracy)\n",
    "        #整合所有loss\n",
    "        with tf.name_scope('total_loss'):\n",
    "            self.total_loss = self.loss + self.l2_penalty*self.L2_lambda\n",
    "            tf.scalar_summary('total_loss', self.total_loss)\n",
    "        #train op\n",
    "        with tf.name_scope('train'):\n",
    "            self.train_step = tf.train.AdamOptimizer(self.learning_rate).minimize(self.total_loss)\n",
    "            \n",
    "    def shfflelists(self, lists):\n",
    "        ri = np.random.permutation(len(lists[1]))\n",
    "        out = []\n",
    "        for l in lists:\n",
    "            out.append(l[ri])\n",
    "        return out"
   ]
  },
  {
   "cell_type": "code",
   "execution_count": 3,
   "metadata": {},
   "outputs": [],
   "source": [
    "# prepare the training data\n",
    "inputs = [[0,0],[0,1],[1,0],[1,1]]\n",
    "outputs = [0,1,1,0]\n",
    "X = np.array(inputs).reshape((4,1,2)).astype('int16')\n",
    "Y = np.array(outputs).reshape((4,1,1)).astype('int16')"
   ]
  },
  {
   "cell_type": "code",
   "execution_count": 4,
   "metadata": {},
   "outputs": [
    {
     "name": "stdout",
     "output_type": "stream",
     "text": [
      "Add dense layer: relu with drop_keep: 1.0\n",
      "   2D--> 2D\n",
      "Add output layer: linear\n",
      "   2D --> 1D\n"
     ]
    }
   ],
   "source": [
    "#build the net instant\n",
    "ff = FNN(learning_rate=1e-3, drop_keep=1.0, Layers=1, N_hidden=[2], \n",
    "         D_input=2, D_label=1, Task_type='regression', L2_lambda=1e-2)\n"
   ]
  },
  {
   "cell_type": "code",
   "execution_count": 5,
   "metadata": {},
   "outputs": [],
   "source": [
    "sess = tf.InteractiveSession()\n",
    "tf.initialize_all_variables().run()\n",
    "merged = tf.merge_all_summaries()\n",
    "train_writer = tf.train.SummaryWriter('log'+'/train',sess.graph)"
   ]
  },
  {
   "cell_type": "code",
   "execution_count": 6,
   "metadata": {
    "scrolled": true
   },
   "outputs": [
    {
     "name": "stdout",
     "output_type": "stream",
     "text": [
      "W_0:\n",
      "[[-0.11052012  0.33037376]\n",
      " [ 0.35867608  1.47092748]]\n",
      "W_1:\n",
      "[[-1.01134253]\n",
      " [ 0.76089478]]\n"
     ]
    }
   ],
   "source": [
    "# W before train\n",
    "\n",
    "W0 = sess.run(ff.W[0])\n",
    "W1 = sess.run(ff.W[1])\n",
    "print('W_0:\\n%s'%W0)\n",
    "print('W_1:\\n%s'%W1)"
   ]
  },
  {
   "cell_type": "code",
   "execution_count": 7,
   "metadata": {},
   "outputs": [
    {
     "data": {
      "text/plain": [
       "<matplotlib.text.Annotation at 0x10ce6ec50>"
      ]
     },
     "execution_count": 7,
     "metadata": {},
     "output_type": "execute_result"
    },
    {
     "data": {
      "image/png": "[encoded data removed]",
      "text/plain": [
       "<matplotlib.figure.Figure at 0x10c1275c0>"
      ]
     },
     "metadata": {},
     "output_type": "display_data"
    }
   ],
   "source": [
    "plt.scatter([1,1,5],[1,3,2],color=['red','red','blue'], s=200,alpha=0.4,marker='o')\n",
    "plt.scatter([3,3],[1,3],color=['green','green'],s=200,alpha=0.4,marker='o')\n",
    "\n",
    "plt.plot([1,3],[1,1],color='orange',linewidth=abs(W0[0,0]))\n",
    "plt.annotate('W00:%0.2f' %W0[0,0],xy=(2, 1.0))\n",
    "\n",
    "plt.plot([1,3],[3,1],color='blue',linewidth=abs(W0[1,0]))\n",
    "plt.annotate('%0.2f' %W0[1,0],xy=(1.5, 1.5))\n",
    "\n",
    "plt.plot([1,3],[1,3],color='orange',linewidth=abs(W0[0,1]))\n",
    "plt.annotate('%0.2f' %W0[0,1],xy=(2.5,2.5))\n",
    "\n",
    "plt.plot([1,3],[3,3],color='blue',linewidth=abs(W0[1,1]))\n",
    "plt.annotate('%0.2f' %W0[1,1],xy=(2, 3))\n",
    "\n",
    "plt.plot([3,5],[1,2],color='black',linewidth=abs(2*W1[0]))\n",
    "plt.annotate('%0.2f' %W1[0],xy=(4, 1.5))\n",
    "\n",
    "plt.plot([3,5],[3,2],color='black',linewidth=abs(2*W1[1]))\n",
    "plt.annotate('%0.2f' %W1[1],xy=(4, 2.5))"
   ]
  },
  {
   "cell_type": "code",
   "execution_count": 8,
   "metadata": {
    "scrolled": true
   },
   "outputs": [
    {
     "name": "stdout",
     "output_type": "stream",
     "text": [
      "[[ 0.07495522]\n",
      " [ 0.83143187]\n",
      " [ 0.42746913]\n",
      " [ 1.19458532]]\n"
     ]
    },
    {
     "data": {
      "text/plain": [
       "<matplotlib.collections.PathCollection at 0x10c60d7b8>"
      ]
     },
     "execution_count": 8,
     "metadata": {},
     "output_type": "execute_result"
    },
    {
     "data": {
      "image/png": "[encoded data removed]",
      "text/plain": [
       "<matplotlib.figure.Figure at 0x10ae8a7f0>"
      ]
     },
     "metadata": {},
     "output_type": "display_data"
    }
   ],
   "source": [
    "#output before training\n",
    "pY = sess.run(ff.output, feed_dict={ff.inputs:X.reshape((4,2)), ff.drop_keep_rate:1.0})\n",
    "print(pY)\n",
    "plt.scatter([0,1,2,3],pY,color=['red','green','blue','black'],s=25,alpha=0.4,marker='o')"
   ]
  },
  {
   "cell_type": "code",
   "execution_count": 9,
   "metadata": {
    "scrolled": true
   },
   "outputs": [
    {
     "name": "stdout",
     "output_type": "stream",
     "text": [
      "[[ 0.1         0.1       ]\n",
      " [ 0.45867607  1.5709275 ]\n",
      " [ 0.          0.43037376]\n",
      " [ 0.34815595  1.90130126]]\n"
     ]
    },
    {
     "data": {
      "text/plain": [
       "<matplotlib.collections.PathCollection at 0x10cd8ab38>"
      ]
     },
     "execution_count": 9,
     "metadata": {},
     "output_type": "execute_result"
    },
    {
     "data": {
      "image/png": "[encoded data removed]",
      "text/plain": [
       "<matplotlib.figure.Figure at 0x10bddaf28>"
      ]
     },
     "metadata": {},
     "output_type": "display_data"
    }
   ],
   "source": [
    "#hid_layer's output before training\n",
    "pY = sess.run(ff.hid_layers[0], feed_dict={ff.inputs:X.reshape((4,2)),\n",
    "                                           ff.drop_keep_rate:1.0})\n",
    "print(pY)\n",
    "plt.scatter(pY[:,0],pY[:,1],color=['red','green','blue','black'],s=25,alpha=0.4,marker='o')"
   ]
  },
  {
   "cell_type": "code",
   "execution_count": 10,
   "metadata": {},
   "outputs": [
    {
     "data": {
      "text/plain": [
       "array([[ 0.2       ,  0.2       ],\n",
       "       [ 0.91735214,  3.141855  ],\n",
       "       [ 0.        ,  0.        ],\n",
       "       [ 0.69631189,  3.80260253]], dtype=float32)"
      ]
     },
     "execution_count": 10,
     "metadata": {},
     "output_type": "execute_result"
    }
   ],
   "source": [
    "sess.run(ff.drop[0],feed_dict={ff.inputs:X.reshape((4,2)),ff.labels:Y.reshape((4,1)),ff.drop_keep_rate:0.5})\n"
   ]
  },
  {
   "cell_type": "code",
   "execution_count": null,
   "metadata": {},
   "outputs": [],
   "source": [
    "ff.labels"
   ]
  },
  {
   "cell_type": "code",
   "execution_count": 11,
   "metadata": {},
   "outputs": [],
   "source": [
    "\n",
    "# training\n",
    "k = 0.0\n",
    "for i in range(10000):\n",
    "    k += 1\n",
    "    summary, acc = sess.run([merged,ff.train_step],feed_dict={ff.inputs:X.reshape((4,2)),\n",
    "                                                            ff.labels:Y.reshape((4,1)),ff.drop_keep_rate:1.0})\n",
    "    train_writer.add_summary(summary, k)"
   ]
  },
  {
   "cell_type": "code",
   "execution_count": 13,
   "metadata": {
    "scrolled": true
   },
   "outputs": [
    {
     "name": "stdout",
     "output_type": "stream",
     "text": [
      "W_0:\n",
      "[[ 1.13731897  0.79838574]\n",
      " [ 1.13765407  0.79827988]]\n",
      "W_1:\n",
      "[[-1.60919726]\n",
      " [ 1.12892354]]\n"
     ]
    }
   ],
   "source": [
    "# 训练后的权重\n",
    "\n",
    "W0=sess.run(ff.W[0])\n",
    "W1=sess.run(ff.W[1])\n",
    "print('W_0:\\n%s' %W0)\n",
    "print('W_1:\\n%s' %W1)"
   ]
  },
  {
   "cell_type": "code",
   "execution_count": 14,
   "metadata": {},
   "outputs": [
    {
     "data": {
      "text/plain": [
       "<matplotlib.text.Annotation at 0x10d1afba8>"
      ]
     },
     "execution_count": 14,
     "metadata": {},
     "output_type": "execute_result"
    },
    {
     "data": {
      "image/png": "[encoded data removed]",
      "text/plain": [
       "<matplotlib.figure.Figure at 0x10ce21400>"
      ]
     },
     "metadata": {},
     "output_type": "display_data"
    }
   ],
   "source": [
    "plt.scatter([1,1,5],[1,3,2],color=['red','red','blue'],s=200,alpha=0.4,marker='o')\n",
    "plt.scatter([3,3],[1,3],color=['green','green'],s=200,alpha=0.4,marker='o')\n",
    "\n",
    "plt.plot([1,3],[1,1],color='orange',linewidth=abs(W0[0,0]))\n",
    "plt.annotate('%0.2f' %W0[0,0],xy=(2, 1.0))\n",
    "\n",
    "plt.plot([1,3],[3,1],color='blue',linewidth=abs(W0[1,0]))\n",
    "plt.annotate('%0.2f' %W0[1,0],xy=(1.5, 1.5))\n",
    "\n",
    "plt.plot([1,3],[1,3],color='blue',linewidth=abs(W0[0,1]))\n",
    "plt.annotate('%0.2f' %W0[0,1],xy=(1.5, 2.5))\n",
    "\n",
    "plt.plot([1,3],[3,3],color='orange',linewidth=abs(W0[1,1]))\n",
    "plt.annotate('%0.2f' %W0[1,1],xy=(2, 3))\n",
    "\n",
    "plt.plot([3,5],[1,2],color='blue',linewidth=abs(W1[0]))\n",
    "plt.annotate('%0.2f' %W1[0],xy=(4, 1.5))\n",
    "\n",
    "plt.plot([3,5],[3,2],color='blue',linewidth=abs(W1[1]))\n",
    "plt.annotate('%0.2f' %W1[1],xy=(4, 2.5))"
   ]
  },
  {
   "cell_type": "code",
   "execution_count": 15,
   "metadata": {
    "scrolled": true
   },
   "outputs": [
    {
     "name": "stdout",
     "output_type": "stream",
     "text": [
      "[[ 0.0565991 ]\n",
      " [ 0.95770729]\n",
      " [ 0.9579156 ]\n",
      " [ 0.02885333]]\n"
     ]
    },
    {
     "data": {
      "text/plain": [
       "<matplotlib.collections.PathCollection at 0x10d4816a0>"
      ]
     },
     "execution_count": 15,
     "metadata": {},
     "output_type": "execute_result"
    },
    {
     "data": {
      "image/png": "[encoded data removed]",
      "text/plain": [
       "<matplotlib.figure.Figure at 0x10c0afb38>"
      ]
     },
     "metadata": {},
     "output_type": "display_data"
    }
   ],
   "source": [
    "#output after training\n",
    "pY = sess.run(ff.output, feed_dict={ff.inputs:X.reshape((4,2)),ff.drop_keep_rate:1.0})\n",
    "print(pY)\n",
    "plt.scatter([0,1,2,3],pY,color=['red','green','blue','black'],s=25,alpha=0.4,marker='o')"
   ]
  },
  {
   "cell_type": "code",
   "execution_count": 16,
   "metadata": {},
   "outputs": [
    {
     "name": "stdout",
     "output_type": "stream",
     "text": [
      "[[  0.00000000e+00   2.20810194e-02]\n",
      " [  5.51939011e-05   8.20360899e-01]\n",
      " [  0.00000000e+00   8.20466757e-01]\n",
      " [  1.13737404e+00   1.61874664e+00]]\n"
     ]
    },
    {
     "data": {
      "text/plain": [
       "<matplotlib.collections.PathCollection at 0x10d4cdba8>"
      ]
     },
     "execution_count": 16,
     "metadata": {},
     "output_type": "execute_result"
    },
    {
     "data": {
      "image/png": "[encoded data removed]",
      "text/plain": [
       "<matplotlib.figure.Figure at 0x10d53ed68>"
      ]
     },
     "metadata": {},
     "output_type": "display_data"
    }
   ],
   "source": [
    "pY=sess.run(ff.hid_layers[0],feed_dict={ff.inputs:X.reshape((4,2)),ff.drop_keep_rate:1.0})\n",
    "\n",
    "print(pY)\n",
    "plt.scatter(pY[:,0],pY[:,1],color=['red','green','blue','black'],s=25,alpha=0.4,marker='o')"
   ]
  },
  {
   "cell_type": "code",
   "execution_count": null,
   "metadata": {
    "collapsed": true
   },
   "outputs": [],
   "source": [
    "# 该操作可以用于读取已经训练好的权重W和b\n",
    "# 每层W想要读取的值\n"
   ]
  }
 ],
 "metadata": {
  "kernelspec": {
   "display_name": "Python 2",
   "language": "python",
   "name": "python2"
  },
  "language_info": {
   "codemirror_mode": {
    "name": "ipython",
    "version": 2
   },
   "file_extension": ".py",
   "mimetype": "text/x-python",
   "name": "python",
   "nbconvert_exporter": "python",
   "pygments_lexer": "ipython2",
   "version": "2.7.10"
  }
 },
 "nbformat": 4,
 "nbformat_minor": 2
}
