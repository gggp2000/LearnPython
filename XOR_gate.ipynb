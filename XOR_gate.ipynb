{
 "cells": [
  {
   "cell_type": "code",
   "execution_count": 1,
   "metadata": {
    "collapsed": true
   },
   "outputs": [],
   "source": [
    "import tensorflow as tf\n",
    "import numpy as np\n",
    "import matplotlib.pyplot as plt\n",
    "%matplotlib inline\n",
    "tf.set_random_seed(55)\n",
    "np.random.seed(55)"
   ]
  },
  {
   "cell_type": "code",
   "execution_count": null,
   "metadata": {
    "collapsed": true
   },
   "outputs": [],
   "source": [
    "class FNN(object):\n",
    "    \"\"\"Build a general FeedForward neural network\n",
    "    Parameters\n",
    "    ----------\n",
    "    learning_rate: float\n",
    "    drop_out: float\n",
    "    Layers: list\n",
    "    N_hidden: list\n",
    "    D_input: int\n",
    "    D_label: int\n",
    "    Task_type: string\n",
    "        'regression' or 'classification'\n",
    "    L2_lambda: float\n",
    "    \"\"\"\n",
    "    def __init__(self, learning_rate, drop_out, Layers, N_hidden,\n",
    "                 D_input, D_label, Task_type='regression', L2_lambda=0.0):\n",
    "        #var\n",
    "        self.learning_rate = learning_rate\n",
    "        self.drop_out = drop_out\n",
    "        self.Layers = Layers\n",
    "        self.N_hidden = N_hidden\n",
    "        self.D_input = D_input\n",
    "        self.D_label = D_label\n",
    "        #类型控制loss函数的选择\n",
    "        self.Task_type = Task_type\n",
    "        #L2 regularization的惩罚强弱，过高会使输出倾向于0\n",
    "        self.L2_lambda = L2_lambda\n",
    "        #用于存放锁累积的每层L2 regularization\n",
    "        self.l2_penalty = tf.constant(0.0)\n",
    "        \n",
    "        #用于生成缩放图，括号里起名字\n",
    "        with tf.name_scope('Input'):\n",
    "            self.inputs = tf.placeholder(tf.float32,[None,D_input],name='inputs')\n",
    "        with tf.name_scope('Label'):\n",
    "            self.labels = tf.placeholder(tf.float32,[None,D_label],name='labels')\n",
    "        with tf.name_scope('keep_rate'):\n",
    "            self.drop_keep_rate = tf.placeholder(tf.float32,name='dropout_keep')\n",
    "        \n",
    "        #初始化时直接生成，build方法是后面会建立的\n",
    "        self.build('F')\n",
    "        \n",
    "    def weight_init(self,shape):\n",
    "        #shape: list [in_dim, out_dim]\n",
    "        #can change initialization here\n",
    "        initial = tf.random_uniform(shape,minval=-np.sqrt(5)*np.sqrt(1.0/shape[0]),maxval=np.sqrt(5)*np.sqrt(1.0/shape[0]))\n",
    "        return tr.Variable(initial)\n",
    "    \n",
    "    "
   ]
  }
 ],
 "metadata": {
  "kernelspec": {
   "display_name": "Python 3",
   "language": "python",
   "name": "python3"
  },
  "language_info": {
   "codemirror_mode": {
    "name": "ipython",
    "version": 3
   },
   "file_extension": ".py",
   "mimetype": "text/x-python",
   "name": "python",
   "nbconvert_exporter": "python",
   "pygments_lexer": "ipython3",
   "version": "3.6.2"
  }
 },
 "nbformat": 4,
 "nbformat_minor": 2
}
